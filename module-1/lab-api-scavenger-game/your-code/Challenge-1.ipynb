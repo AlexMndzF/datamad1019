{
 "cells": [
  {
   "cell_type": "code",
   "execution_count": 157,
   "metadata": {},
   "outputs": [],
   "source": [
    "# IMPORTS:\n",
    "import os\n",
    "from dotenv import load_dotenv\n",
    "import json\n",
    "import requests\n",
    "import base64\n",
    "import re"
   ]
  },
  {
   "cell_type": "code",
   "execution_count": 134,
   "metadata": {},
   "outputs": [],
   "source": [
    "load_dotenv()\n",
    "def githubRequestAuthorized(resource):\n",
    "    authToken = os.getenv(\"GITHUB_API_TOKEN\")\n",
    "    if not authToken:\n",
    "        raise ValueError(\"NECESITAS UN TOKEN\")\n",
    "    else:\n",
    "        print(\"We have a github token: \", authToken[0:4])\n",
    "    headers = {\n",
    "        \"Authorization\": \"token {}\".format(authToken)\n",
    "    }\n",
    "    url = \"https://api.github.com{}\".format(resource)\n",
    "    print(\"Requesting authorized {}\".format(url))\n",
    "    res = requests.get(url, headers=headers)\n",
    "    return res# enter your code below"
   ]
  },
  {
   "cell_type": "code",
   "execution_count": 135,
   "metadata": {},
   "outputs": [
    {
     "name": "stdout",
     "output_type": "stream",
     "text": [
      "We have a github token:  a69c\n",
      "Requesting authorized https://api.github.com/repos/ironhack-datalabs/datamad1019\n"
     ]
    }
   ],
   "source": [
    "data = githubRequestAuthorized(\"/repos/ironhack-datalabs/datamad1019\").json()"
   ]
  },
  {
   "cell_type": "code",
   "execution_count": 136,
   "metadata": {},
   "outputs": [
    {
     "name": "stdout",
     "output_type": "stream",
     "text": [
      "We have a github token:  a69c\n",
      "Requesting authorized https://api.github.com/repos/ironhack-datalabs/madrid-oct-2018/forks\n"
     ]
    }
   ],
   "source": [
    "data_forks =  githubRequestAuthorized(\"/repos/ironhack-datalabs/madrid-oct-2018/forks\").json()"
   ]
  },
  {
   "cell_type": "code",
   "execution_count": 137,
   "metadata": {},
   "outputs": [
    {
     "name": "stdout",
     "output_type": "stream",
     "text": [
      "Used languages: {'Jupyter Notebook', 'HTML', 'Python'}\n"
     ]
    }
   ],
   "source": [
    "#Challenge 1: Fork Languages:\n",
    "languages = list(map(lambda data_forks: data_forks['language'],data_forks))\n",
    "print('Used languages:',set(languages))"
   ]
  },
  {
   "cell_type": "code",
   "execution_count": 138,
   "metadata": {},
   "outputs": [
    {
     "name": "stdout",
     "output_type": "stream",
     "text": [
      "We have a github token:  a69c\n",
      "Requesting authorized https://api.github.com/repos/ironhack-datalabs/datamad1019/commits?since=2019-01-01\n",
      "\n",
      "Number of commits sice 2019-01-01, 30\n"
     ]
    }
   ],
   "source": [
    "#Challenge 2: Count Commits:\n",
    "data_comit =  githubRequestAuthorized(\"/repos/ironhack-datalabs/datamad1019/commits?since=2019-01-01\").json()\n",
    "print('\\nNumber of commits sice 2019-01-01, {}'.format(len(data_comit)))    "
   ]
  },
  {
   "cell_type": "code",
   "execution_count": 139,
   "metadata": {},
   "outputs": [
    {
     "name": "stdout",
     "output_type": "stream",
     "text": [
      "We have a github token:  a69c\n",
      "Requesting authorized https://api.github.com/repos/ironhack-datalabs/scavenger/contents\n"
     ]
    }
   ],
   "source": [
    "#Challenge 3: Hidden Cold Joke:\n",
    "sca_cont = githubRequestAuthorized(\"/repos/ironhack-datalabs/scavenger/contents\").json()"
   ]
  },
  {
   "cell_type": "code",
   "execution_count": 141,
   "metadata": {},
   "outputs": [],
   "source": [
    "keyValList = ['dir']\n",
    "directorios = list(filter(lambda sca_cont: sca_cont['type'] in keyValList, sca_cont))\n",
    "folder_path = list(map(lambda directorios: directorios['path'],directorios))"
   ]
  },
  {
   "cell_type": "code",
   "execution_count": 142,
   "metadata": {},
   "outputs": [
    {
     "name": "stdout",
     "output_type": "stream",
     "text": [
      "We have a github token:  a69c\n",
      "Requesting authorized https://api.github.com/repos/ironhack-datalabs/scavenger/contents/15024\n",
      "We have a github token:  a69c\n",
      "Requesting authorized https://api.github.com/repos/ironhack-datalabs/scavenger/contents/15024/.0006.scavengerhunt\n",
      "We have a github token:  a69c\n",
      "Requesting authorized https://api.github.com/repos/ironhack-datalabs/scavenger/contents/15534\n",
      "We have a github token:  a69c\n",
      "Requesting authorized https://api.github.com/repos/ironhack-datalabs/scavenger/contents/15534/.0008.scavengerhunt\n",
      "We have a github token:  a69c\n",
      "Requesting authorized https://api.github.com/repos/ironhack-datalabs/scavenger/contents/15534/.0012.scavengerhunt\n",
      "We have a github token:  a69c\n",
      "Requesting authorized https://api.github.com/repos/ironhack-datalabs/scavenger/contents/17020\n",
      "We have a github token:  a69c\n",
      "Requesting authorized https://api.github.com/repos/ironhack-datalabs/scavenger/contents/17020/.0007.scavengerhunt\n",
      "We have a github token:  a69c\n",
      "Requesting authorized https://api.github.com/repos/ironhack-datalabs/scavenger/contents/30351\n",
      "We have a github token:  a69c\n",
      "Requesting authorized https://api.github.com/repos/ironhack-datalabs/scavenger/contents/30351/.0021.scavengerhunt\n",
      "We have a github token:  a69c\n",
      "Requesting authorized https://api.github.com/repos/ironhack-datalabs/scavenger/contents/40303\n",
      "We have a github token:  a69c\n",
      "Requesting authorized https://api.github.com/repos/ironhack-datalabs/scavenger/contents/40303/.0022.scavengerhunt\n",
      "We have a github token:  a69c\n",
      "Requesting authorized https://api.github.com/repos/ironhack-datalabs/scavenger/contents/44639\n",
      "We have a github token:  a69c\n",
      "Requesting authorized https://api.github.com/repos/ironhack-datalabs/scavenger/contents/44639/.0005.scavengerhunt\n",
      "We have a github token:  a69c\n",
      "Requesting authorized https://api.github.com/repos/ironhack-datalabs/scavenger/contents/45525\n",
      "We have a github token:  a69c\n",
      "Requesting authorized https://api.github.com/repos/ironhack-datalabs/scavenger/contents/45525/.0018.scavengerhunt\n",
      "We have a github token:  a69c\n",
      "Requesting authorized https://api.github.com/repos/ironhack-datalabs/scavenger/contents/47222\n",
      "We have a github token:  a69c\n",
      "Requesting authorized https://api.github.com/repos/ironhack-datalabs/scavenger/contents/47222/.0016.scavengerhunt\n",
      "We have a github token:  a69c\n",
      "Requesting authorized https://api.github.com/repos/ironhack-datalabs/scavenger/contents/47222/.0024.scavengerhunt\n",
      "We have a github token:  a69c\n",
      "Requesting authorized https://api.github.com/repos/ironhack-datalabs/scavenger/contents/47830\n",
      "We have a github token:  a69c\n",
      "Requesting authorized https://api.github.com/repos/ironhack-datalabs/scavenger/contents/47830/.0010.scavengerhunt\n",
      "We have a github token:  a69c\n",
      "Requesting authorized https://api.github.com/repos/ironhack-datalabs/scavenger/contents/49418\n",
      "We have a github token:  a69c\n",
      "Requesting authorized https://api.github.com/repos/ironhack-datalabs/scavenger/contents/49418/.0014.scavengerhunt\n",
      "We have a github token:  a69c\n",
      "Requesting authorized https://api.github.com/repos/ironhack-datalabs/scavenger/contents/50896\n",
      "We have a github token:  a69c\n",
      "Requesting authorized https://api.github.com/repos/ironhack-datalabs/scavenger/contents/50896/.0011.scavengerhunt\n",
      "We have a github token:  a69c\n",
      "Requesting authorized https://api.github.com/repos/ironhack-datalabs/scavenger/contents/55417\n",
      "We have a github token:  a69c\n",
      "Requesting authorized https://api.github.com/repos/ironhack-datalabs/scavenger/contents/55417/.0023.scavengerhunt\n",
      "We have a github token:  a69c\n",
      "Requesting authorized https://api.github.com/repos/ironhack-datalabs/scavenger/contents/55685\n",
      "We have a github token:  a69c\n",
      "Requesting authorized https://api.github.com/repos/ironhack-datalabs/scavenger/contents/55685/.0020.scavengerhunt\n",
      "We have a github token:  a69c\n",
      "Requesting authorized https://api.github.com/repos/ironhack-datalabs/scavenger/contents/60224\n",
      "We have a github token:  a69c\n",
      "Requesting authorized https://api.github.com/repos/ironhack-datalabs/scavenger/contents/60224/.0003.scavengerhunt\n",
      "We have a github token:  a69c\n",
      "Requesting authorized https://api.github.com/repos/ironhack-datalabs/scavenger/contents/64880\n",
      "We have a github token:  a69c\n",
      "Requesting authorized https://api.github.com/repos/ironhack-datalabs/scavenger/contents/66032\n",
      "We have a github token:  a69c\n",
      "Requesting authorized https://api.github.com/repos/ironhack-datalabs/scavenger/contents/68848\n",
      "We have a github token:  a69c\n",
      "Requesting authorized https://api.github.com/repos/ironhack-datalabs/scavenger/contents/68848/.0004.scavengerhunt\n",
      "We have a github token:  a69c\n",
      "Requesting authorized https://api.github.com/repos/ironhack-datalabs/scavenger/contents/70751\n",
      "We have a github token:  a69c\n",
      "Requesting authorized https://api.github.com/repos/ironhack-datalabs/scavenger/contents/70751/.0019.scavengerhunt\n",
      "We have a github token:  a69c\n",
      "Requesting authorized https://api.github.com/repos/ironhack-datalabs/scavenger/contents/70985\n",
      "We have a github token:  a69c\n",
      "Requesting authorized https://api.github.com/repos/ironhack-datalabs/scavenger/contents/70985/.0017.scavengerhunt\n",
      "We have a github token:  a69c\n",
      "Requesting authorized https://api.github.com/repos/ironhack-datalabs/scavenger/contents/88596\n",
      "We have a github token:  a69c\n",
      "Requesting authorized https://api.github.com/repos/ironhack-datalabs/scavenger/contents/88596/.0002.scavengerhunt\n",
      "We have a github token:  a69c\n",
      "Requesting authorized https://api.github.com/repos/ironhack-datalabs/scavenger/contents/89046\n",
      "We have a github token:  a69c\n",
      "Requesting authorized https://api.github.com/repos/ironhack-datalabs/scavenger/contents/89338\n",
      "We have a github token:  a69c\n",
      "Requesting authorized https://api.github.com/repos/ironhack-datalabs/scavenger/contents/89338/.0013.scavengerhunt\n",
      "We have a github token:  a69c\n",
      "Requesting authorized https://api.github.com/repos/ironhack-datalabs/scavenger/contents/91701\n",
      "We have a github token:  a69c\n",
      "Requesting authorized https://api.github.com/repos/ironhack-datalabs/scavenger/contents/91701/.0015.scavengerhunt\n",
      "We have a github token:  a69c\n",
      "Requesting authorized https://api.github.com/repos/ironhack-datalabs/scavenger/contents/97881\n",
      "We have a github token:  a69c\n",
      "Requesting authorized https://api.github.com/repos/ironhack-datalabs/scavenger/contents/97881/.0009.scavengerhunt\n",
      "We have a github token:  a69c\n",
      "Requesting authorized https://api.github.com/repos/ironhack-datalabs/scavenger/contents/98750\n",
      "We have a github token:  a69c\n",
      "Requesting authorized https://api.github.com/repos/ironhack-datalabs/scavenger/contents/98750/.0001.scavengerhunt\n"
     ]
    }
   ],
   "source": [
    "#sca_15024 = githubRequestAuthorized(\"/repos/ironhack-datalabs/scavenger/contents/15024\").json()\n",
    "keyNameList = []\n",
    "ficheroDic = {}\n",
    "for i in range(1,25):\n",
    "    if i < 10:\n",
    "        keyNameList.append('.000{}.scavengerhunt'.format(i))\n",
    "    else:\n",
    "        keyNameList.append('.00{}.scavengerhunt'.format(i))\n",
    "\n",
    "for e in folder_path:\n",
    "    folder = githubRequestAuthorized(\"/repos/ironhack-datalabs/scavenger/contents/{}\".format(e)).json()\n",
    "    for fichero in folder:\n",
    "        if fichero['name'] in keyNameList:\n",
    "            contenido = githubRequestAuthorized(\"/repos/ironhack-datalabs/scavenger/contents/{}/{}\".format(e,fichero['name'])).json()\n",
    "            ficheroDic[fichero['name']]=contenido['content']   "
   ]
  },
  {
   "cell_type": "code",
   "execution_count": 160,
   "metadata": {},
   "outputs": [
    {
     "data": {
      "text/plain": [
       "'In data science, 80 percent of time spent is preparing data, 20 percent of time is spent complaining about the need to prepare data. '"
      ]
     },
     "execution_count": 160,
     "metadata": {},
     "output_type": "execute_result"
    }
   ],
   "source": [
    "listafichero =[]\n",
    "final =''\n",
    "for e in keyNameList:\n",
    "    decodify = (base64.b64decode(ficheroDic[e])).decode('UTF-8')\n",
    "    listafichero.append(decodify)\n",
    "\n",
    "for e in listafichero:\n",
    "    final+=e\n",
    "\n",
    "final = re.sub('\\\\n', ' ',final)\n",
    "final\n"
   ]
  },
  {
   "cell_type": "code",
   "execution_count": null,
   "metadata": {},
   "outputs": [],
   "source": []
  }
 ],
 "metadata": {
  "kernelspec": {
   "display_name": "Python 3",
   "language": "python",
   "name": "python3"
  },
  "language_info": {
   "codemirror_mode": {
    "name": "ipython",
    "version": 3
   },
   "file_extension": ".py",
   "mimetype": "text/x-python",
   "name": "python",
   "nbconvert_exporter": "python",
   "pygments_lexer": "ipython3",
   "version": "3.6.8"
  }
 },
 "nbformat": 4,
 "nbformat_minor": 2
}
